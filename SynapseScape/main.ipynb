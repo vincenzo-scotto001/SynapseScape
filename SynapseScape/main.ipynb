{
 "cells": [
  {
   "cell_type": "code",
   "execution_count": null,
   "metadata": {},
   "outputs": [],
   "source": [
    "import server\n",
    "\n",
    "server.run_websocket_loop()"
   ]
  },
  {
   "cell_type": "code",
   "execution_count": null,
   "metadata": {},
   "outputs": [],
   "source": [
    "from client.game.walking import globalcollisionmap\n",
    "from client.game import collisionmap\n",
    "\n",
    "with open('resources/regions', 'rb') as f:\n",
    "    print('reading')\n",
    "    data = f.read()\n",
    "    print('done reading')\n",
    "c = globalcollisionmap.GlobalCollisionMap(data)\n",
    "print('done generating')\n",
    "print(c.get(0, 0, 0, 0))"
   ]
  },
  {
   "cell_type": "code",
   "execution_count": null,
   "metadata": {},
   "outputs": [],
   "source": [
    "from client.game.worldpoint import WorldPoint\n",
    "\n",
    "print(c.n_wp(WorldPoint(3317, 3168, 0)))\n",
    "print(c.e_wp(WorldPoint(3317, 3168, 0)))\n",
    "print(c.s_wp(WorldPoint(3317, 3168, 0)))\n",
    "print(c.w_wp(WorldPoint(3317, 3168, 0)))\n",
    "print(3245 // 64 * 256 + 3225 // 64)\n",
    "print(c.regions[3317 // 64 * 256 + 3168 // 64])\n",
    "\n"
   ]
  }
 ],
 "metadata": {
  "kernelspec": {
   "display_name": "Python 3",
   "language": "python",
   "name": "python3"
  },
  "language_info": {
   "codemirror_mode": {
    "name": "ipython",
    "version": 3
   },
   "file_extension": ".py",
   "mimetype": "text/x-python",
   "name": "python",
   "nbconvert_exporter": "python",
   "pygments_lexer": "ipython3",
   "version": "3.7.16"
  },
  "orig_nbformat": 4
 },
 "nbformat": 4,
 "nbformat_minor": 2
}
