{
 "cells": [
  {
   "cell_type": "code",
   "execution_count": null,
   "metadata": {},
   "outputs": [],
   "source": [
    "import asyncio\n",
    "import websockets\n",
    "import nest_asyncio\n",
    "import ast\n",
    "\n",
    "\n",
    "nest_asyncio.apply()\n",
    "\n",
    "async def handle_data(data):\n",
    "    state = ast.literal_eval(data)\n",
    "    print(state['inventory'])\n",
    "    print(state['valid_movements'])\n",
    "    # print('\\r', ast.literal_eval(data), end='')\n",
    "\n",
    "\n",
    "async def handle_message(websocket):\n",
    "    async for message in websocket:\n",
    "        await websocket.send(message)\n",
    "        #print('\\r' + message, end='')\n",
    "        await handle_data(message)\n",
    "\n",
    "async def start_websocket_server():\n",
    "    async with websockets.serve(handle_message, \"localhost\", 8765):\n",
    "        #await asyncio.Future()  # run forever\n",
    "        await asyncio.get_event_loop().run_forever()\n",
    "\n",
    "\n",
    "\n",
    "asyncio.run(start_websocket_server())\n"
   ]
  }
 ],
 "metadata": {
  "kernelspec": {
   "display_name": "Python 3",
   "language": "python",
   "name": "python3"
  },
  "language_info": {
   "codemirror_mode": {
    "name": "ipython",
    "version": 3
   },
   "file_extension": ".py",
   "mimetype": "text/x-python",
   "name": "python",
   "nbconvert_exporter": "python",
   "pygments_lexer": "ipython3",
   "version": "3.10.4"
  },
  "orig_nbformat": 4
 },
 "nbformat": 4,
 "nbformat_minor": 2
}
